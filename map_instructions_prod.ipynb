{
 "cells": [
  {
   "cell_type": "markdown",
   "id": "7ed4120c-92e7-495a-b736-47b7e99fbbc0",
   "metadata": {},
   "source": [
    "!pip install sentence-transformers"
   ]
  },
  {
   "cell_type": "code",
   "execution_count": 15,
   "id": "4a30aab9-9f02-4e6d-a18d-159e97d1c81d",
   "metadata": {},
   "outputs": [
    {
     "name": "stdout",
     "output_type": "stream",
     "text": [
      "User Input: if you mind Can you retrain the model with the updated new data?\n",
      "Best matching command: Retrain the model with updated data\n",
      "Retraining the model with updated data...\n"
     ]
    }
   ],
   "source": [
    "from transformers import AutoTokenizer, AutoModelForSequenceClassification\n",
    "import torch\n",
    "from sentence_transformers import SentenceTransformer, util\n",
    "\n",
    "import numpy as np\n",
    "\n",
    "# Example Predefined Commands (These are the actions the system can perform)\n",
    "commands = [\n",
    "    \"Re-run the model with new data\",\n",
    "    \"Retrain the model with updated data\",\n",
    "    \"Change hyperparameters and retrain\",\n",
    "    \"Update model with new input data\",\n",
    "    \"Evaluate model performance\",\n",
    "    \"Check model status\"\n",
    "]\n",
    "\n",
    "# Define the action mapping\n",
    "actions = {\n",
    "    0: \"Re-run the model with new data\",  # Action 0\n",
    "    1: \"Retrain the model with updated data\",  # Action 1\n",
    "    2: \"Change hyperparameters and retrain\",  # Action 2\n",
    "    3: \"Update model with new input data\",  # Action 3\n",
    "    4: \"Evaluate model performance\",  # Action 4\n",
    "    5: \"Check model status\"  # Action 5\n",
    "}\n",
    "\n",
    "# Load a pretrained sentence transformer model for semantic matching\n",
    "model = SentenceTransformer('all-MiniLM-L6-v2')\n",
    "\n",
    "# Function to classify the user input based on predefined commands\n",
    "def classify_input(user_input):\n",
    "    # Encode commands and user input\n",
    "    command_embeddings = model.encode(commands, convert_to_tensor=True)\n",
    "    user_input_embedding = model.encode(user_input, convert_to_tensor=True)\n",
    "\n",
    "    # Calculate similarity between user input and commands\n",
    "    cosine_scores = util.pytorch_cos_sim(user_input_embedding, command_embeddings)[0]\n",
    "    \n",
    "    # Find the command with the highest similarity\n",
    "    best_command_index = torch.argmax(cosine_scores).item()\n",
    "    best_command = commands[best_command_index]\n",
    "    return best_command, best_command_index\n",
    "\n",
    "# Function to execute the command (this is where the logic for each action goes)\n",
    "def execute_command(command_index):\n",
    "    if command_index == 0:\n",
    "        print(\"Re-running the model with new data...\")\n",
    "        # Code to re-run the model with new data\n",
    "    elif command_index == 1:\n",
    "        print(\"Retraining the model with updated data...\")\n",
    "        # Code to retrain the model\n",
    "    elif command_index == 2:\n",
    "        print(\"Changing hyperparameters and retraining...\")\n",
    "        # Code to change hyperparameters and retrain\n",
    "    elif command_index == 3:\n",
    "        print(\"Updating model with new input data...\")\n",
    "        # Code to update the model with new data\n",
    "    elif command_index == 4:\n",
    "        print(\"Evaluating model performance...\")\n",
    "        # Code to evaluate model performance\n",
    "    elif command_index == 5:\n",
    "        print(\"Checking model status...\")\n",
    "        # Code to check model status\n",
    "    else:\n",
    "        print(\"Unknown command!\")\n",
    "\n",
    "# Example User Input (could be anything related to model actions)\n",
    "user_input = \"if you mind Can you retrain the model with the updated new data?\"  # Variation of \"Retrain the model with updated data\"\n",
    "\n",
    "# Classify the input and get the corresponding action\n",
    "best_command, best_command_index = classify_input(user_input)\n",
    "\n",
    "# Print classified command\n",
    "print(f\"User Input: {user_input}\")\n",
    "print(f\"Best matching command: {best_command}\")\n",
    "\n",
    "# Execute the corresponding action based on the classified command\n",
    "execute_command(best_command_index)\n"
   ]
  },
  {
   "cell_type": "code",
   "execution_count": null,
   "id": "8ebf1067-52e6-4c2e-bc14-a286ba8ca92a",
   "metadata": {},
   "outputs": [],
   "source": []
  }
 ],
 "metadata": {
  "kernelspec": {
   "display_name": "Python 3 (ipykernel)",
   "language": "python",
   "name": "python3"
  },
  "language_info": {
   "codemirror_mode": {
    "name": "ipython",
    "version": 3
   },
   "file_extension": ".py",
   "mimetype": "text/x-python",
   "name": "python",
   "nbconvert_exporter": "python",
   "pygments_lexer": "ipython3",
   "version": "3.12.7"
  }
 },
 "nbformat": 4,
 "nbformat_minor": 5
}
